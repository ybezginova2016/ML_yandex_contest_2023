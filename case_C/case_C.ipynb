{
 "cells": [
  {
   "cell_type": "markdown",
   "source": [
    "## C. Лента рекомендаций\n",
    "\n",
    "Разработчик Илья создал социальную сеть с лентой рекомендаций разнородного контента. В ленте перемешаны различные объекты (фото, новости, видео и т.д.). Илья настроил ленту таким образом, что объекты упорядочиваются по релевантности. Чем больше лайков набирает объект, тем он ближе к началу поиска. Илья не предусмотрел одно важное условие, что при таком упорядочивании в списке рекомендаций часто встречается несколько объектов одного типа подряд.\n",
    "\n",
    "\n",
    "Это не нравится пользователям, потому что рекомендации выглядят однообразными. Необходимо реализовать алгоритм, который по списку рекомендаций составит новый список – лишённый этого недостатка и при этом максимально релевантный.\n",
    "\n",
    "Пусть задан исходный список рекомендаций a=[a0,a1,…,an−1] длиной n>0. Объект под номером i имеет тип с номером bi∈{0,…,m−1} и релевантность r(ai)=2−i.\n",
    "\n",
    "Рассмотрим список, который получается из исходного выбором подмножества объектов и их перестановкой: x=[ai0,ai1,…,aik−1] длины k (1≤k≤n). Список называется допустимым, если никакие два подряд идущих объекта в нем не совпадают по типу, т.е. bij≠bij+1 для всех j=0,…,k−2. Релевантность списка вычисляется по формуле ∑k−1j=02−jr(aij). Вам нужно найти максимальный по релевантности список среди всех допустимых.\n",
    "### Формат ввода\n",
    "В первой строке через пробел записаны числа n и m (1≤n≤100000, 1≤m≤n).\n",
    "В следующих n строках записаны числа bi для i=0,…,n−1 (0≤bi≤m−1).\n",
    "### Формат вывода\n",
    "Выпишите через пробел номера объектов итогового списка: i0,i1,…,ik−1.\n"
   ],
   "metadata": {
    "collapsed": false
   }
  },
  {
   "cell_type": "markdown",
   "source": [
    "## Решение 1: жадный алгоритм"
   ],
   "metadata": {
    "collapsed": false
   }
  },
  {
   "cell_type": "markdown",
   "source": [
    "Для решения данной задачи можно воспользоваться жадным алгоритмом. Мы можем перебирать все возможные подмножества объектов в порядке убывания их релевантности, и выбирать первое допустимое подмножество. Для проверки допустимости списка можно просто пройти по нему и проверять, что соседние объекты имеют разные типы."
   ],
   "metadata": {
    "collapsed": false
   }
  },
  {
   "cell_type": "code",
   "execution_count": 20,
   "outputs": [
    {
     "name": "stdout",
     "output_type": "stream",
     "text": [
      "0 1\n"
     ]
    }
   ],
   "source": [
    "n, m = map(int, input().split())\n",
    "b = [int(input()) for _ in range(n)]\n",
    "r = [2**-i for i in range(n)]\n",
    "\n",
    "if len(set(b)) == 1:\n",
    "    # если все объекты имеют одинаковый тип, то вернуть исходный список\n",
    "    print(*range(n))\n",
    "else:\n",
    "    # вычисляем массив dp\n",
    "    dp = [[-1e18] * m for _ in range(n+1)]\n",
    "    for j in range(m):\n",
    "        dp[1][j] = r[0] if b[0] != j else 0\n",
    "    for i in range(2, n+1):\n",
    "        for j in range(m):\n",
    "            for k in range(i-1):\n",
    "                if b[i-1] != j and b[k] != j:\n",
    "                    dp[i][j] = max(dp[i][j], dp[k+1][b[k]] + sum(r[k+1:i]))\n",
    "    ans = max(dp[n])\n",
    "\n",
    "    # восстанавливаем допустимый список максимальной релевантности\n",
    "    result = []\n",
    "    for i in range(n, 0, -1):\n",
    "        for j in range(m):\n",
    "            if dp[i][j] == ans and (not result or result[-1][1] != j):\n",
    "                result.append((i-1, j))\n",
    "                ans -= r[i-1]\n",
    "                break\n",
    "    result.reverse()\n",
    "    ans = [i for i, _ in result]\n",
    "\n",
    "    # выведем номера объектов в списке\n",
    "    print(*ans)"
   ],
   "metadata": {
    "collapsed": false
   }
  },
  {
   "cell_type": "markdown",
   "source": [
    "В данном коде мы сначала создаем список объектов вместе с их релевантностью, затем сортируем его по убыванию релевантности. Затем мы проходим по этому списку и добавляем каждый объект в результирующий список, если его тип отличается от типа предыдущего объекта в списке. В конце мы сортируем список по номерам типов объектов и выводим его номера."
   ],
   "metadata": {
    "collapsed": false
   }
  },
  {
   "cell_type": "markdown",
   "source": [
    "### Алгоритм:\n",
    "\n",
    "1. Разделим объекты на две группы: тип A и тип B.\n",
    "\n",
    "2. Для каждой группы выберем объект с максимальной релевантностью.\n",
    "\n",
    "3. Если объекты выбраны с разными типами, то нашли решение.\n",
    "\n",
    "4. Если объекты выбраны с одинаковым типом, то:\n",
    "\n",
    "* Для оставшихся объектов типа A выберем объект с максимальной релевантностью среди тех, что не конфликтуют с уже выбранными объектами типа B.\n",
    "\n",
    "* Для оставшихся объектов типа B выберем объект с максимальной релевантностью среди тех, что не конфликтуют с уже выбранными объектами типа A.\n",
    "\n",
    "5. Выведем номера выбранных объектов в порядке их появления в исходном списке."
   ],
   "metadata": {
    "collapsed": false
   }
  },
  {
   "cell_type": "code",
   "execution_count": 76,
   "outputs": [
    {
     "name": "stdout",
     "output_type": "stream",
     "text": [
      "1\n"
     ]
    }
   ],
   "source": [
    "n, m = map(int, input().split())\n",
    "b = [int(input()) for _ in range(n)]\n",
    "r = [2 ** (-i) for i in range(n)]\n",
    "objects = list(zip(b, r))\n",
    "\n",
    "# сортируем список по релевантности\n",
    "objects.sort(key=lambda x: x[1], reverse=True)\n",
    "\n",
    "# добавляем первый объект\n",
    "result = [objects[0][0]]\n",
    "last_type = objects[0][0]\n",
    "\n",
    "# добавляем остальные объекты с различными типами\n",
    "for obj in objects[1:]:\n",
    "    if obj[0] != last_type:\n",
    "        result.append(obj[0])\n",
    "        last_type = obj[0]\n",
    "\n",
    "print(' '.join(map(str, result)))"
   ],
   "metadata": {
    "collapsed": false
   }
  },
  {
   "cell_type": "code",
   "execution_count": 78,
   "outputs": [
    {
     "name": "stdout",
     "output_type": "stream",
     "text": [
      "1 1\n"
     ]
    }
   ],
   "source": [
    "n, m = map(int, input().split())\n",
    "b = [int(input()) for _ in range(n)]\n",
    "r = [2 ** (-i) for i in range(n)]\n",
    "objects = list(zip(b, r))\n",
    "\n",
    "# сортируем список по релевантности\n",
    "objects.sort(key=lambda x: x[1], reverse=True)\n",
    "\n",
    "# добавляем первый объект\n",
    "result = [objects[0][0]]\n",
    "last_type = objects[0][0]\n",
    "\n",
    "# добавляем остальные объекты с различными типами\n",
    "for obj in objects[1:]:\n",
    "    if obj[0] != last_type:\n",
    "        result.append(obj[0])\n",
    "        last_type = obj[0]\n",
    "\n",
    "# проверяем последний элемент списка\n",
    "if result[-1] == objects[-1][0]:\n",
    "    result.pop()\n",
    "    result.append(objects[-2][0])\n",
    "    result.append(objects[-1][0])\n",
    "\n",
    "print(' '.join(map(str, result)))"
   ],
   "metadata": {
    "collapsed": false
   }
  },
  {
   "cell_type": "code",
   "execution_count": 86,
   "outputs": [
    {
     "name": "stdout",
     "output_type": "stream",
     "text": [
      "1 1\n"
     ]
    }
   ],
   "source": [
    "n, m = map(int, input().split())\n",
    "\n",
    "# создаем список с релевантностями\n",
    "relevances = [2 ** (-i) for i in range(n)]\n",
    "\n",
    "# создаем список объектов\n",
    "objects = [(int(input()), relevances[i]) for i in range(n)]\n",
    "\n",
    "# сортируем список по релевантности\n",
    "objects.sort(key=lambda x: x[1], reverse=True)\n",
    "\n",
    "# добавляем первый объект\n",
    "result = [objects[0][0]]\n",
    "last_type = objects[0][0]\n",
    "\n",
    "# добавляем остальные объекты с различными типами\n",
    "for obj in objects[1:]:\n",
    "    if obj[0] != last_type:\n",
    "        result.append(obj[0])\n",
    "        last_type = obj[0]\n",
    "\n",
    "# проверяем последний элемент списка\n",
    "if result[-1] == objects[-1][0]:\n",
    "    result.pop()\n",
    "    result.append(objects[-2][0])\n",
    "    result.append(objects[-1][0])\n",
    "\n",
    "print(' '.join(map(str, result)))\n"
   ],
   "metadata": {
    "collapsed": false
   }
  },
  {
   "cell_type": "code",
   "execution_count": 88,
   "outputs": [
    {
     "name": "stdout",
     "output_type": "stream",
     "text": [
      "1\n"
     ]
    }
   ],
   "source": [
    "n, m = map(int, input().split())\n",
    "b = [int(input()) for _ in range(n)]\n",
    "r = [2 ** (-i) for i in range(n)]\n",
    "\n",
    "# создаем список объектов\n",
    "objects = [(r[i], b[i]) for i in range(n)]\n",
    "\n",
    "# сортируем список по убыванию релевантности и возрастанию типа\n",
    "objects.sort(key=lambda x: (-x[0], x[1]))\n",
    "\n",
    "# выбираем объекты различных типов с максимальной релевантностью\n",
    "result = []\n",
    "last_type = None\n",
    "for obj in objects:\n",
    "    if obj[1] != last_type:\n",
    "        result.append(obj[1])\n",
    "        last_type = obj[1]\n",
    "        if len(result) == m:\n",
    "            break\n",
    "\n",
    "# Если нужно выбрать еще объекты, то добавляем объекты других типов\n",
    "for obj in objects:\n",
    "    if obj[1] not in result:\n",
    "        result.append(obj[1])\n",
    "    if len(result) == m:\n",
    "        break\n",
    "\n",
    "# выводим номера объектов в списке\n",
    "print(*result[:m])"
   ],
   "metadata": {
    "collapsed": false
   }
  },
  {
   "cell_type": "code",
   "execution_count": null,
   "outputs": [],
   "source": [],
   "metadata": {
    "collapsed": false
   }
  }
 ],
 "metadata": {
  "kernelspec": {
   "display_name": "Python 3",
   "language": "python",
   "name": "python3"
  },
  "language_info": {
   "codemirror_mode": {
    "name": "ipython",
    "version": 2
   },
   "file_extension": ".py",
   "mimetype": "text/x-python",
   "name": "python",
   "nbconvert_exporter": "python",
   "pygments_lexer": "ipython2",
   "version": "2.7.6"
  }
 },
 "nbformat": 4,
 "nbformat_minor": 0
}
