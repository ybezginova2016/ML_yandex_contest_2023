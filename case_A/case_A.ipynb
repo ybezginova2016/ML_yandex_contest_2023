{
 "cells": [
  {
   "cell_type": "markdown",
   "source": [
    "### Задача A. Что случилось?\n",
    "\n",
    "Необходимо восстановить коэффициенты функции f(x), зная её значения на некотором наборе точек. При этом известно, что:\n",
    "\n",
    "$$f(x) = ((a + dx) * e^x + (b + dx) * (x^(3/4)))^2 + (c + dx) * cos^2(x)$$"
   ],
   "metadata": {
    "collapsed": false
   }
  },
  {
   "cell_type": "code",
   "execution_count": 145,
   "outputs": [],
   "source": [
    "import numpy as np\n",
    "import pandas as pd\n",
    "\n",
    "from sklearn.preprocessing import StandardScaler\n",
    "from scipy.optimize import curve_fit"
   ],
   "metadata": {
    "collapsed": false
   }
  },
  {
   "cell_type": "code",
   "execution_count": 146,
   "outputs": [],
   "source": [
    "# jupyter notebook --NotebookApp.iopub_data_rate_limit=10000000"
   ],
   "metadata": {
    "collapsed": false
   }
  },
  {
   "cell_type": "code",
   "execution_count": 147,
   "outputs": [
    {
     "data": {
      "text/plain": "          X             y\n0  3.692393  18960.598043\n1  1.848369   2051.642981\n2  1.479064   1314.926619\n3  2.449248   4062.394248\n4  2.473555   4175.464210",
      "text/html": "<div>\n<style scoped>\n    .dataframe tbody tr th:only-of-type {\n        vertical-align: middle;\n    }\n\n    .dataframe tbody tr th {\n        vertical-align: top;\n    }\n\n    .dataframe thead th {\n        text-align: right;\n    }\n</style>\n<table border=\"1\" class=\"dataframe\">\n  <thead>\n    <tr style=\"text-align: right;\">\n      <th></th>\n      <th>X</th>\n      <th>y</th>\n    </tr>\n  </thead>\n  <tbody>\n    <tr>\n      <th>0</th>\n      <td>3.692393</td>\n      <td>18960.598043</td>\n    </tr>\n    <tr>\n      <th>1</th>\n      <td>1.848369</td>\n      <td>2051.642981</td>\n    </tr>\n    <tr>\n      <th>2</th>\n      <td>1.479064</td>\n      <td>1314.926619</td>\n    </tr>\n    <tr>\n      <th>3</th>\n      <td>2.449248</td>\n      <td>4062.394248</td>\n    </tr>\n    <tr>\n      <th>4</th>\n      <td>2.473555</td>\n      <td>4175.464210</td>\n    </tr>\n  </tbody>\n</table>\n</div>"
     },
     "execution_count": 147,
     "metadata": {},
     "output_type": "execute_result"
    }
   ],
   "source": [
    "data = \"C:\\\\Users\\\\HOME\\\\Documents\\\\Yandex\\\\case_A\\\\data.txt\"\n",
    "\n",
    "df = pd.read_csv(data, sep=' ', names=['X', 'y'])\n",
    "df.head()"
   ],
   "metadata": {
    "collapsed": false
   }
  },
  {
   "cell_type": "code",
   "execution_count": 148,
   "outputs": [
    {
     "data": {
      "text/plain": "X    float64\ny    float64\ndtype: object"
     },
     "execution_count": 148,
     "metadata": {},
     "output_type": "execute_result"
    }
   ],
   "source": [
    "df.dtypes"
   ],
   "metadata": {
    "collapsed": false
   }
  },
  {
   "cell_type": "markdown",
   "source": [
    "### Способ 1 (аналитический через производную и OLS)"
   ],
   "metadata": {
    "collapsed": false
   }
  },
  {
   "cell_type": "markdown",
   "source": [
    "В исходных данных у нас есть признаки (1-ая колонка) и значение функции (2-ая колонка) в данной точке. Нужно найти коэффициенты функции аналитически."
   ],
   "metadata": {
    "collapsed": false
   }
  },
  {
   "cell_type": "code",
   "execution_count": 149,
   "outputs": [],
   "source": [
    "X = df['X']\n",
    "y = df['y']"
   ],
   "metadata": {
    "collapsed": false
   }
  },
  {
   "cell_type": "code",
   "execution_count": 150,
   "outputs": [
    {
     "data": {
      "text/plain": "100000"
     },
     "execution_count": 150,
     "metadata": {},
     "output_type": "execute_result"
    }
   ],
   "source": [
    "len(X)"
   ],
   "metadata": {
    "collapsed": false
   }
  },
  {
   "cell_type": "code",
   "execution_count": 151,
   "outputs": [
    {
     "data": {
      "text/plain": "0    3.692393\n1    1.848369\n2    1.479064\n3    2.449248\n4    2.473555\nName: X, dtype: float64"
     },
     "execution_count": 151,
     "metadata": {},
     "output_type": "execute_result"
    }
   ],
   "source": [
    "X.head()"
   ],
   "metadata": {
    "collapsed": false
   }
  },
  {
   "cell_type": "code",
   "execution_count": 152,
   "outputs": [
    {
     "data": {
      "text/plain": "(100000,)"
     },
     "execution_count": 152,
     "metadata": {},
     "output_type": "execute_result"
    }
   ],
   "source": [
    "y.shape"
   ],
   "metadata": {
    "collapsed": false
   }
  },
  {
   "cell_type": "code",
   "execution_count": 153,
   "outputs": [
    {
     "data": {
      "text/plain": "0    18960.598043\n1     2051.642981\n2     1314.926619\n3     4062.394248\n4     4175.464210\nName: y, dtype: float64"
     },
     "execution_count": 153,
     "metadata": {},
     "output_type": "execute_result"
    }
   ],
   "source": [
    "y.head()"
   ],
   "metadata": {
    "collapsed": false
   }
  },
  {
   "cell_type": "markdown",
   "source": [
    "Сначала определим функцию."
   ],
   "metadata": {
    "collapsed": false
   }
  },
  {
   "cell_type": "code",
   "execution_count": 154,
   "outputs": [],
   "source": [
    "def f(x, a, b, c):\n",
    "    da, db, dc = np.random.uniform(low=-0.001, high=0.001, size=3)\n",
    "    return ((a + da) * np.exp(x) + (b + db) * x**(3/4))**2 + (c + dc) * np.cos(x)**2"
   ],
   "metadata": {
    "collapsed": false
   }
  },
  {
   "cell_type": "code",
   "execution_count": 155,
   "outputs": [
    {
     "data": {
      "text/plain": "116.05651813123154"
     },
     "execution_count": 155,
     "metadata": {},
     "output_type": "execute_result"
    }
   ],
   "source": [
    "y1 = f(2.0, 1.0, 2.0, 3.0)\n",
    "y1"
   ],
   "metadata": {
    "collapsed": false
   }
  },
  {
   "cell_type": "markdown",
   "source": [
    "Вычислим производную функции $f(x)$:"
   ],
   "metadata": {
    "collapsed": false
   }
  },
  {
   "cell_type": "code",
   "execution_count": 156,
   "outputs": [],
   "source": [
    "# Определение производных функции f(x) по a, b и c\n",
    "def df_da(x, a, b, da, db):\n",
    "    return 2 * ((a + da) * np.exp(x) + (b + db) * x**(3/4)) * np.exp(x)\n",
    "\n",
    "def df_db(x, a, b, da, db):\n",
    "    return 3/2 * np.sqrt((a + da) * np.exp(x) + (b + db) * x**(3/4)) * (b + db) * x**(-1/4)\n",
    "\n",
    "def df_dc(x, c, dc):\n",
    "    return 2 * (c + dc) * np.cos(x) * (-np.sin(x)**2)\n",
    "\n",
    "# Определение функции наименьших квадратов\n",
    "def least_squares(X, y):\n",
    "    # Инициализация начальных значений a, b, c\n",
    "    a = np.random.uniform(low=-1, high=1)\n",
    "    b = np.random.uniform(low=-1, high=1)\n",
    "    c = np.random.uniform(low=-1, high=1)\n",
    "\n",
    "    alpha = 0.01 # скорость обучения\n",
    "\n",
    "    iterations = 10000 # количество итераций\n",
    "\n",
    "    for i in range(iterations):\n",
    "        # Вычисление градиентов производных\n",
    "        grad_a = np.mean([2 * (f(x, a, b, c) - y[i]) * df_da(x, a, b, np.random.uniform(low=-0.001, high=0.001), np.random.uniform(low=-0.001, high=0.001))\n",
    "                          for i, x in enumerate(X)])\n",
    "        grad_b = np.mean([2 * (f(x, a, b, c) - y[i]) * df_db(x, a, b, np.random.uniform(low=-0.001, high=0.001), np.random.uniform(low=-0.001, high=0.001))\n",
    "                          for i, x in enumerate(X)])\n",
    "        grad_c = np.mean([2 * (f(x, a, b, c) - y[i]) * df_dc(x, c, np.random.uniform(low=-0.001, high=0.001))\n",
    "                          for i, x in enumerate(X)])\n",
    "\n",
    "        # Обновление значений a, b, c\n",
    "        a = a - alpha * grad_a\n",
    "        b = b - alpha * grad_b\n",
    "        c = c - alpha * grad_c\n",
    "\n",
    "    return a, b, c"
   ],
   "metadata": {
    "collapsed": false
   }
  },
  {
   "cell_type": "code",
   "execution_count": 135,
   "outputs": [
    {
     "ename": "KeyboardInterrupt",
     "evalue": "",
     "output_type": "error",
     "traceback": [
      "\u001B[1;31m---------------------------------------------------------------------------\u001B[0m",
      "\u001B[1;31mKeyboardInterrupt\u001B[0m                         Traceback (most recent call last)",
      "Cell \u001B[1;32mIn[135], line 2\u001B[0m\n\u001B[0;32m      1\u001B[0m \u001B[38;5;66;03m# Вычисление коэффициентов a, b, c\u001B[39;00m\n\u001B[1;32m----> 2\u001B[0m a, b, c \u001B[38;5;241m=\u001B[39m \u001B[43mleast_squares\u001B[49m\u001B[43m(\u001B[49m\u001B[43mX\u001B[49m\u001B[43m,\u001B[49m\u001B[43m \u001B[49m\u001B[43my\u001B[49m\u001B[43m)\u001B[49m\n\u001B[0;32m      4\u001B[0m \u001B[38;5;66;03m# Вывод результатов\u001B[39;00m\n\u001B[0;32m      5\u001B[0m \u001B[38;5;28mprint\u001B[39m(\u001B[38;5;124mf\u001B[39m\u001B[38;5;124m'\u001B[39m\u001B[38;5;132;01m{\u001B[39;00ma\u001B[38;5;132;01m:\u001B[39;00m\u001B[38;5;124m.4f\u001B[39m\u001B[38;5;132;01m}\u001B[39;00m\u001B[38;5;124m \u001B[39m\u001B[38;5;132;01m{\u001B[39;00mb\u001B[38;5;132;01m:\u001B[39;00m\u001B[38;5;124m.4f\u001B[39m\u001B[38;5;132;01m}\u001B[39;00m\u001B[38;5;124m \u001B[39m\u001B[38;5;132;01m{\u001B[39;00mc\u001B[38;5;132;01m:\u001B[39;00m\u001B[38;5;124m.4f\u001B[39m\u001B[38;5;132;01m}\u001B[39;00m\u001B[38;5;124m'\u001B[39m)\n",
      "Cell \u001B[1;32mIn[134], line 28\u001B[0m, in \u001B[0;36mleast_squares\u001B[1;34m(X, y)\u001B[0m\n\u001B[0;32m     24\u001B[0m grad_a \u001B[38;5;241m=\u001B[39m np\u001B[38;5;241m.\u001B[39mmean([\u001B[38;5;241m2\u001B[39m \u001B[38;5;241m*\u001B[39m (f(x, a, b, c) \u001B[38;5;241m-\u001B[39m y[i]) \u001B[38;5;241m*\u001B[39m df_da(x, a, b, np\u001B[38;5;241m.\u001B[39mrandom\u001B[38;5;241m.\u001B[39muniform(low\u001B[38;5;241m=\u001B[39m\u001B[38;5;241m-\u001B[39m\u001B[38;5;241m0.001\u001B[39m, high\u001B[38;5;241m=\u001B[39m\u001B[38;5;241m0.001\u001B[39m), np\u001B[38;5;241m.\u001B[39mrandom\u001B[38;5;241m.\u001B[39muniform(low\u001B[38;5;241m=\u001B[39m\u001B[38;5;241m-\u001B[39m\u001B[38;5;241m0.001\u001B[39m, high\u001B[38;5;241m=\u001B[39m\u001B[38;5;241m0.001\u001B[39m))\n\u001B[0;32m     25\u001B[0m                   \u001B[38;5;28;01mfor\u001B[39;00m i, x \u001B[38;5;129;01min\u001B[39;00m \u001B[38;5;28menumerate\u001B[39m(X)])\n\u001B[0;32m     26\u001B[0m grad_b \u001B[38;5;241m=\u001B[39m np\u001B[38;5;241m.\u001B[39mmean([\u001B[38;5;241m2\u001B[39m \u001B[38;5;241m*\u001B[39m (f(x, a, b, c) \u001B[38;5;241m-\u001B[39m y[i]) \u001B[38;5;241m*\u001B[39m df_db(x, a, b, np\u001B[38;5;241m.\u001B[39mrandom\u001B[38;5;241m.\u001B[39muniform(low\u001B[38;5;241m=\u001B[39m\u001B[38;5;241m-\u001B[39m\u001B[38;5;241m0.001\u001B[39m, high\u001B[38;5;241m=\u001B[39m\u001B[38;5;241m0.001\u001B[39m), np\u001B[38;5;241m.\u001B[39mrandom\u001B[38;5;241m.\u001B[39muniform(low\u001B[38;5;241m=\u001B[39m\u001B[38;5;241m-\u001B[39m\u001B[38;5;241m0.001\u001B[39m, high\u001B[38;5;241m=\u001B[39m\u001B[38;5;241m0.001\u001B[39m))\n\u001B[0;32m     27\u001B[0m                   \u001B[38;5;28;01mfor\u001B[39;00m i, x \u001B[38;5;129;01min\u001B[39;00m \u001B[38;5;28menumerate\u001B[39m(X)])\n\u001B[1;32m---> 28\u001B[0m grad_c \u001B[38;5;241m=\u001B[39m \u001B[43mnp\u001B[49m\u001B[38;5;241;43m.\u001B[39;49m\u001B[43mmean\u001B[49m\u001B[43m(\u001B[49m\u001B[43m[\u001B[49m\u001B[38;5;241;43m2\u001B[39;49m\u001B[43m \u001B[49m\u001B[38;5;241;43m*\u001B[39;49m\u001B[43m \u001B[49m\u001B[43m(\u001B[49m\u001B[43mf\u001B[49m\u001B[43m(\u001B[49m\u001B[43mx\u001B[49m\u001B[43m,\u001B[49m\u001B[43m \u001B[49m\u001B[43ma\u001B[49m\u001B[43m,\u001B[49m\u001B[43m \u001B[49m\u001B[43mb\u001B[49m\u001B[43m,\u001B[49m\u001B[43m \u001B[49m\u001B[43mc\u001B[49m\u001B[43m)\u001B[49m\u001B[43m \u001B[49m\u001B[38;5;241;43m-\u001B[39;49m\u001B[43m \u001B[49m\u001B[43my\u001B[49m\u001B[43m[\u001B[49m\u001B[43mi\u001B[49m\u001B[43m]\u001B[49m\u001B[43m)\u001B[49m\u001B[43m \u001B[49m\u001B[38;5;241;43m*\u001B[39;49m\u001B[43m \u001B[49m\u001B[43mdf_dc\u001B[49m\u001B[43m(\u001B[49m\u001B[43mx\u001B[49m\u001B[43m,\u001B[49m\u001B[43m \u001B[49m\u001B[43mc\u001B[49m\u001B[43m,\u001B[49m\u001B[43m \u001B[49m\u001B[43mnp\u001B[49m\u001B[38;5;241;43m.\u001B[39;49m\u001B[43mrandom\u001B[49m\u001B[38;5;241;43m.\u001B[39;49m\u001B[43muniform\u001B[49m\u001B[43m(\u001B[49m\u001B[43mlow\u001B[49m\u001B[38;5;241;43m=\u001B[39;49m\u001B[38;5;241;43m-\u001B[39;49m\u001B[38;5;241;43m0.001\u001B[39;49m\u001B[43m,\u001B[49m\u001B[43m \u001B[49m\u001B[43mhigh\u001B[49m\u001B[38;5;241;43m=\u001B[39;49m\u001B[38;5;241;43m0.001\u001B[39;49m\u001B[43m)\u001B[49m\u001B[43m)\u001B[49m\n\u001B[0;32m     29\u001B[0m \u001B[43m                  \u001B[49m\u001B[38;5;28;43;01mfor\u001B[39;49;00m\u001B[43m \u001B[49m\u001B[43mi\u001B[49m\u001B[43m,\u001B[49m\u001B[43m \u001B[49m\u001B[43mx\u001B[49m\u001B[43m \u001B[49m\u001B[38;5;129;43;01min\u001B[39;49;00m\u001B[43m \u001B[49m\u001B[38;5;28;43menumerate\u001B[39;49m\u001B[43m(\u001B[49m\u001B[43mX\u001B[49m\u001B[43m)\u001B[49m\u001B[43m]\u001B[49m\u001B[43m)\u001B[49m\n\u001B[0;32m     31\u001B[0m \u001B[38;5;66;03m# Обновление значений a, b, c\u001B[39;00m\n\u001B[0;32m     32\u001B[0m a \u001B[38;5;241m=\u001B[39m a \u001B[38;5;241m-\u001B[39m alpha \u001B[38;5;241m*\u001B[39m grad_a\n",
      "File \u001B[1;32m<__array_function__ internals>:200\u001B[0m, in \u001B[0;36mmean\u001B[1;34m(*args, **kwargs)\u001B[0m\n",
      "File \u001B[1;32m~\\AppData\\Local\\Programs\\Python\\Python39\\lib\\site-packages\\numpy\\core\\fromnumeric.py:3464\u001B[0m, in \u001B[0;36mmean\u001B[1;34m(a, axis, dtype, out, keepdims, where)\u001B[0m\n\u001B[0;32m   3461\u001B[0m     \u001B[38;5;28;01melse\u001B[39;00m:\n\u001B[0;32m   3462\u001B[0m         \u001B[38;5;28;01mreturn\u001B[39;00m mean(axis\u001B[38;5;241m=\u001B[39maxis, dtype\u001B[38;5;241m=\u001B[39mdtype, out\u001B[38;5;241m=\u001B[39mout, \u001B[38;5;241m*\u001B[39m\u001B[38;5;241m*\u001B[39mkwargs)\n\u001B[1;32m-> 3464\u001B[0m \u001B[38;5;28;01mreturn\u001B[39;00m _methods\u001B[38;5;241m.\u001B[39m_mean(a, axis\u001B[38;5;241m=\u001B[39maxis, dtype\u001B[38;5;241m=\u001B[39mdtype,\n\u001B[0;32m   3465\u001B[0m                       out\u001B[38;5;241m=\u001B[39mout, \u001B[38;5;241m*\u001B[39m\u001B[38;5;241m*\u001B[39mkwargs)\n",
      "File \u001B[1;32m~\\AppData\\Local\\Programs\\Python\\Python39\\lib\\site-packages\\numpy\\core\\_methods.py:181\u001B[0m, in \u001B[0;36m_mean\u001B[1;34m(a, axis, dtype, out, keepdims, where)\u001B[0m\n\u001B[0;32m    178\u001B[0m         dtype \u001B[38;5;241m=\u001B[39m mu\u001B[38;5;241m.\u001B[39mdtype(\u001B[38;5;124m'\u001B[39m\u001B[38;5;124mf4\u001B[39m\u001B[38;5;124m'\u001B[39m)\n\u001B[0;32m    179\u001B[0m         is_float16_result \u001B[38;5;241m=\u001B[39m \u001B[38;5;28;01mTrue\u001B[39;00m\n\u001B[1;32m--> 181\u001B[0m ret \u001B[38;5;241m=\u001B[39m \u001B[43mumr_sum\u001B[49m\u001B[43m(\u001B[49m\u001B[43marr\u001B[49m\u001B[43m,\u001B[49m\u001B[43m \u001B[49m\u001B[43maxis\u001B[49m\u001B[43m,\u001B[49m\u001B[43m \u001B[49m\u001B[43mdtype\u001B[49m\u001B[43m,\u001B[49m\u001B[43m \u001B[49m\u001B[43mout\u001B[49m\u001B[43m,\u001B[49m\u001B[43m \u001B[49m\u001B[43mkeepdims\u001B[49m\u001B[43m,\u001B[49m\u001B[43m \u001B[49m\u001B[43mwhere\u001B[49m\u001B[38;5;241;43m=\u001B[39;49m\u001B[43mwhere\u001B[49m\u001B[43m)\u001B[49m\n\u001B[0;32m    182\u001B[0m \u001B[38;5;28;01mif\u001B[39;00m \u001B[38;5;28misinstance\u001B[39m(ret, mu\u001B[38;5;241m.\u001B[39mndarray):\n\u001B[0;32m    183\u001B[0m     \u001B[38;5;28;01mwith\u001B[39;00m _no_nep50_warning():\n",
      "\u001B[1;31mKeyboardInterrupt\u001B[0m: "
     ]
    }
   ],
   "source": [
    "# Вычисление коэффициентов a, b, c\n",
    "a, b, c = least_squares(X, y)\n",
    "\n",
    "# Вывод результатов\n",
    "print(f'{a:.4f} {b:.4f} {c:.4f}')"
   ],
   "metadata": {
    "collapsed": false
   }
  },
  {
   "cell_type": "markdown",
   "source": [
    "### Способ 2 (с библиотекой)"
   ],
   "metadata": {
    "collapsed": false
   }
  },
  {
   "cell_type": "code",
   "execution_count": 157,
   "outputs": [
    {
     "name": "stdout",
     "output_type": "stream",
     "text": [
      "CPU times: total: 125 ms\n",
      "Wall time: 166 ms\n"
     ]
    }
   ],
   "source": [
    "%%time\n",
    "# Вычисление оптимальных значений весов a, b и c\n",
    "popt, pcov = curve_fit(f, X, y)"
   ],
   "metadata": {
    "collapsed": false
   }
  },
  {
   "cell_type": "code",
   "execution_count": 158,
   "outputs": [
    {
     "name": "stdout",
     "output_type": "stream",
     "text": [
      "1.060221 1.037162 0.960951\n"
     ]
    }
   ],
   "source": [
    "# Вывод оптимальных значений весов a, b и c\n",
    "a, b, c = popt\n",
    "print('{:.6f} {:.6f} {:.6f}'.format(a, b, c))"
   ],
   "metadata": {
    "collapsed": false
   }
  },
  {
   "cell_type": "markdown",
   "source": [
    "### Градиентный спуск"
   ],
   "metadata": {
    "collapsed": false
   }
  },
  {
   "cell_type": "code",
   "execution_count": 85,
   "outputs": [],
   "source": [
    "# Define the gradient of f(x) with respect to a, b, and c\n",
    "def grad_f(x, a, b, c):\n",
    "    da, db, dc = np.random.uniform(low=-0.001, high=0.001, size=3)\n",
    "    df_da = 2 * ((a + da) * np.exp(x) + (b + db) * x**(3/4)) * np.exp(x)\n",
    "    df_db = 3/2 * np.sqrt((a + da) * np.exp(x) + (b + db) * x**(3/4)) * (b + db) * x**(-1/4)\n",
    "    df_dc = 2 * (c + dc) * np.cos(x) * (-np.sin(x)**2)\n",
    "    return np.array([df_da, df_db, df_dc])"
   ],
   "metadata": {
    "collapsed": false
   }
  },
  {
   "cell_type": "code",
   "execution_count": 86,
   "outputs": [],
   "source": [
    "# Define the gradient descent function to find the optimal values of a, b, and c\n",
    "def gradient_descent(X, y, learning_rate=0.01, epsilon=0.001, num_iterations=30000):\n",
    "    # Initialize the values of a, b, and c\n",
    "    a = np.random.uniform(low=-1, high=1)\n",
    "    b = np.random.uniform(low=-1, high=1)\n",
    "    c = np.random.uniform(low=-1, high=1)\n",
    "    # Perform gradient descent\n",
    "    for i in range(num_iterations):\n",
    "        grad = np.zeros(3)\n",
    "        for j in range(len(X)):\n",
    "            grad += grad_f(X[j], a, b, c) * (f(X[j], a, b, c) - y[j])\n",
    "        grad /= len(X)\n",
    "        a -= learning_rate * grad[0]\n",
    "        b -= learning_rate * grad[1]\n",
    "        c -= learning_rate * grad[2]\n",
    "        if np.linalg.norm(grad) < epsilon:\n",
    "            break\n",
    "    return a, b, c"
   ],
   "metadata": {
    "collapsed": false
   }
  },
  {
   "cell_type": "code",
   "execution_count": 87,
   "outputs": [
    {
     "name": "stderr",
     "output_type": "stream",
     "text": [
      "C:\\Users\\HOME\\AppData\\Local\\Temp\\ipykernel_6732\\3886243238.py:5: RuntimeWarning: invalid value encountered in sqrt\n",
      "  df_db = 3/2 * np.sqrt((a + da) * np.exp(x) + (b + db) * x**(3/4)) * (b + db) * x**(-1/4)\n"
     ]
    },
    {
     "ename": "KeyboardInterrupt",
     "evalue": "",
     "output_type": "error",
     "traceback": [
      "\u001B[1;31m---------------------------------------------------------------------------\u001B[0m",
      "\u001B[1;31mKeyboardInterrupt\u001B[0m                         Traceback (most recent call last)",
      "Cell \u001B[1;32mIn[87], line 2\u001B[0m\n\u001B[0;32m      1\u001B[0m \u001B[38;5;66;03m# Find the optimal values of a, b, and c using gradient descent\u001B[39;00m\n\u001B[1;32m----> 2\u001B[0m a, b, c \u001B[38;5;241m=\u001B[39m \u001B[43mgradient_descent\u001B[49m\u001B[43m(\u001B[49m\u001B[43mX\u001B[49m\u001B[43m,\u001B[49m\u001B[43m \u001B[49m\u001B[43my\u001B[49m\u001B[43m)\u001B[49m\n\u001B[0;32m      4\u001B[0m \u001B[38;5;66;03m# Print the optimal values of a, b, and c\u001B[39;00m\n\u001B[0;32m      5\u001B[0m \u001B[38;5;28mprint\u001B[39m(\u001B[38;5;124m'\u001B[39m\u001B[38;5;132;01m{:.6f}\u001B[39;00m\u001B[38;5;124m \u001B[39m\u001B[38;5;132;01m{:.6f}\u001B[39;00m\u001B[38;5;124m \u001B[39m\u001B[38;5;132;01m{:.6f}\u001B[39;00m\u001B[38;5;124m'\u001B[39m\u001B[38;5;241m.\u001B[39mformat(a, b, c))\n",
      "Cell \u001B[1;32mIn[86], line 11\u001B[0m, in \u001B[0;36mgradient_descent\u001B[1;34m(X, y, learning_rate, epsilon, num_iterations)\u001B[0m\n\u001B[0;32m      9\u001B[0m grad \u001B[38;5;241m=\u001B[39m np\u001B[38;5;241m.\u001B[39mzeros(\u001B[38;5;241m3\u001B[39m)\n\u001B[0;32m     10\u001B[0m \u001B[38;5;28;01mfor\u001B[39;00m j \u001B[38;5;129;01min\u001B[39;00m \u001B[38;5;28mrange\u001B[39m(\u001B[38;5;28mlen\u001B[39m(X)):\n\u001B[1;32m---> 11\u001B[0m     grad \u001B[38;5;241m+\u001B[39m\u001B[38;5;241m=\u001B[39m grad_f(X[j], a, b, c) \u001B[38;5;241m*\u001B[39m (\u001B[43mf\u001B[49m\u001B[43m(\u001B[49m\u001B[43mX\u001B[49m\u001B[43m[\u001B[49m\u001B[43mj\u001B[49m\u001B[43m]\u001B[49m\u001B[43m,\u001B[49m\u001B[43m \u001B[49m\u001B[43ma\u001B[49m\u001B[43m,\u001B[49m\u001B[43m \u001B[49m\u001B[43mb\u001B[49m\u001B[43m,\u001B[49m\u001B[43m \u001B[49m\u001B[43mc\u001B[49m\u001B[43m)\u001B[49m \u001B[38;5;241m-\u001B[39m y[j])\n\u001B[0;32m     12\u001B[0m grad \u001B[38;5;241m/\u001B[39m\u001B[38;5;241m=\u001B[39m \u001B[38;5;28mlen\u001B[39m(X)\n\u001B[0;32m     13\u001B[0m a \u001B[38;5;241m-\u001B[39m\u001B[38;5;241m=\u001B[39m learning_rate \u001B[38;5;241m*\u001B[39m grad[\u001B[38;5;241m0\u001B[39m]\n",
      "Cell \u001B[1;32mIn[83], line 2\u001B[0m, in \u001B[0;36mf\u001B[1;34m(x, a, b, c)\u001B[0m\n\u001B[0;32m      1\u001B[0m \u001B[38;5;28;01mdef\u001B[39;00m \u001B[38;5;21mf\u001B[39m(x, a, b, c):\n\u001B[1;32m----> 2\u001B[0m     da, db, dc \u001B[38;5;241m=\u001B[39m \u001B[43mnp\u001B[49m\u001B[38;5;241;43m.\u001B[39;49m\u001B[43mrandom\u001B[49m\u001B[38;5;241;43m.\u001B[39;49m\u001B[43muniform\u001B[49m\u001B[43m(\u001B[49m\u001B[43mlow\u001B[49m\u001B[38;5;241;43m=\u001B[39;49m\u001B[38;5;241;43m-\u001B[39;49m\u001B[38;5;241;43m0.001\u001B[39;49m\u001B[43m,\u001B[49m\u001B[43m \u001B[49m\u001B[43mhigh\u001B[49m\u001B[38;5;241;43m=\u001B[39;49m\u001B[38;5;241;43m0.001\u001B[39;49m\u001B[43m,\u001B[49m\u001B[43m \u001B[49m\u001B[43msize\u001B[49m\u001B[38;5;241;43m=\u001B[39;49m\u001B[38;5;241;43m3\u001B[39;49m\u001B[43m)\u001B[49m\n\u001B[0;32m      3\u001B[0m     \u001B[38;5;28;01mreturn\u001B[39;00m ((a \u001B[38;5;241m+\u001B[39m da) \u001B[38;5;241m*\u001B[39m np\u001B[38;5;241m.\u001B[39mexp(x) \u001B[38;5;241m+\u001B[39m (b \u001B[38;5;241m+\u001B[39m db) \u001B[38;5;241m*\u001B[39m x\u001B[38;5;241m*\u001B[39m\u001B[38;5;241m*\u001B[39m(\u001B[38;5;241m3\u001B[39m\u001B[38;5;241m/\u001B[39m\u001B[38;5;241m4\u001B[39m))\u001B[38;5;241m*\u001B[39m\u001B[38;5;241m*\u001B[39m\u001B[38;5;241m2\u001B[39m \u001B[38;5;241m+\u001B[39m (c \u001B[38;5;241m+\u001B[39m dc) \u001B[38;5;241m*\u001B[39m np\u001B[38;5;241m.\u001B[39mcos(x)\u001B[38;5;241m*\u001B[39m\u001B[38;5;241m*\u001B[39m\u001B[38;5;241m2\u001B[39m\n",
      "\u001B[1;31mKeyboardInterrupt\u001B[0m: "
     ]
    }
   ],
   "source": [
    "# Find the optimal values of a, b, and c using gradient descent\n",
    "a, b, c = gradient_descent(X, y)\n",
    "\n",
    "# Print the optimal values of a, b, and c\n",
    "print('{:.6f} {:.6f} {:.6f}'.format(a, b, c))"
   ],
   "metadata": {
    "collapsed": false
   }
  },
  {
   "cell_type": "code",
   "execution_count": 122,
   "outputs": [
    {
     "name": "stderr",
     "output_type": "stream",
     "text": [
      "C:\\Users\\HOME\\AppData\\Local\\Temp\\ipykernel_6732\\3886243238.py:5: RuntimeWarning: invalid value encountered in sqrt\n",
      "  df_db = 3/2 * np.sqrt((a + da) * np.exp(x) + (b + db) * x**(3/4)) * (b + db) * x**(-1/4)\n"
     ]
    },
    {
     "ename": "KeyboardInterrupt",
     "evalue": "",
     "output_type": "error",
     "traceback": [
      "\u001B[1;31m---------------------------------------------------------------------------\u001B[0m",
      "\u001B[1;31mKeyboardInterrupt\u001B[0m                         Traceback (most recent call last)",
      "File \u001B[1;32m<timed exec>:30\u001B[0m\n",
      "Cell \u001B[1;32mIn[86], line 11\u001B[0m, in \u001B[0;36mgradient_descent\u001B[1;34m(X, y, learning_rate, epsilon, num_iterations)\u001B[0m\n\u001B[0;32m      9\u001B[0m grad \u001B[38;5;241m=\u001B[39m np\u001B[38;5;241m.\u001B[39mzeros(\u001B[38;5;241m3\u001B[39m)\n\u001B[0;32m     10\u001B[0m \u001B[38;5;28;01mfor\u001B[39;00m j \u001B[38;5;129;01min\u001B[39;00m \u001B[38;5;28mrange\u001B[39m(\u001B[38;5;28mlen\u001B[39m(X)):\n\u001B[1;32m---> 11\u001B[0m     grad \u001B[38;5;241m+\u001B[39m\u001B[38;5;241m=\u001B[39m \u001B[43mgrad_f\u001B[49m\u001B[43m(\u001B[49m\u001B[43mX\u001B[49m\u001B[43m[\u001B[49m\u001B[43mj\u001B[49m\u001B[43m]\u001B[49m\u001B[43m,\u001B[49m\u001B[43m \u001B[49m\u001B[43ma\u001B[49m\u001B[43m,\u001B[49m\u001B[43m \u001B[49m\u001B[43mb\u001B[49m\u001B[43m,\u001B[49m\u001B[43m \u001B[49m\u001B[43mc\u001B[49m\u001B[43m)\u001B[49m \u001B[38;5;241m*\u001B[39m (f(X[j], a, b, c) \u001B[38;5;241m-\u001B[39m y[j])\n\u001B[0;32m     12\u001B[0m grad \u001B[38;5;241m/\u001B[39m\u001B[38;5;241m=\u001B[39m \u001B[38;5;28mlen\u001B[39m(X)\n\u001B[0;32m     13\u001B[0m a \u001B[38;5;241m-\u001B[39m\u001B[38;5;241m=\u001B[39m learning_rate \u001B[38;5;241m*\u001B[39m grad[\u001B[38;5;241m0\u001B[39m]\n",
      "Cell \u001B[1;32mIn[85], line 3\u001B[0m, in \u001B[0;36mgrad_f\u001B[1;34m(x, a, b, c)\u001B[0m\n\u001B[0;32m      2\u001B[0m \u001B[38;5;28;01mdef\u001B[39;00m \u001B[38;5;21mgrad_f\u001B[39m(x, a, b, c):\n\u001B[1;32m----> 3\u001B[0m     da, db, dc \u001B[38;5;241m=\u001B[39m \u001B[43mnp\u001B[49m\u001B[38;5;241;43m.\u001B[39;49m\u001B[43mrandom\u001B[49m\u001B[38;5;241;43m.\u001B[39;49m\u001B[43muniform\u001B[49m\u001B[43m(\u001B[49m\u001B[43mlow\u001B[49m\u001B[38;5;241;43m=\u001B[39;49m\u001B[38;5;241;43m-\u001B[39;49m\u001B[38;5;241;43m0.001\u001B[39;49m\u001B[43m,\u001B[49m\u001B[43m \u001B[49m\u001B[43mhigh\u001B[49m\u001B[38;5;241;43m=\u001B[39;49m\u001B[38;5;241;43m0.001\u001B[39;49m\u001B[43m,\u001B[49m\u001B[43m \u001B[49m\u001B[43msize\u001B[49m\u001B[38;5;241;43m=\u001B[39;49m\u001B[38;5;241;43m3\u001B[39;49m\u001B[43m)\u001B[49m\n\u001B[0;32m      4\u001B[0m     df_da \u001B[38;5;241m=\u001B[39m \u001B[38;5;241m2\u001B[39m \u001B[38;5;241m*\u001B[39m ((a \u001B[38;5;241m+\u001B[39m da) \u001B[38;5;241m*\u001B[39m np\u001B[38;5;241m.\u001B[39mexp(x) \u001B[38;5;241m+\u001B[39m (b \u001B[38;5;241m+\u001B[39m db) \u001B[38;5;241m*\u001B[39m x\u001B[38;5;241m*\u001B[39m\u001B[38;5;241m*\u001B[39m(\u001B[38;5;241m3\u001B[39m\u001B[38;5;241m/\u001B[39m\u001B[38;5;241m4\u001B[39m)) \u001B[38;5;241m*\u001B[39m np\u001B[38;5;241m.\u001B[39mexp(x)\n\u001B[0;32m      5\u001B[0m     df_db \u001B[38;5;241m=\u001B[39m \u001B[38;5;241m3\u001B[39m\u001B[38;5;241m/\u001B[39m\u001B[38;5;241m2\u001B[39m \u001B[38;5;241m*\u001B[39m np\u001B[38;5;241m.\u001B[39msqrt((a \u001B[38;5;241m+\u001B[39m da) \u001B[38;5;241m*\u001B[39m np\u001B[38;5;241m.\u001B[39mexp(x) \u001B[38;5;241m+\u001B[39m (b \u001B[38;5;241m+\u001B[39m db) \u001B[38;5;241m*\u001B[39m x\u001B[38;5;241m*\u001B[39m\u001B[38;5;241m*\u001B[39m(\u001B[38;5;241m3\u001B[39m\u001B[38;5;241m/\u001B[39m\u001B[38;5;241m4\u001B[39m)) \u001B[38;5;241m*\u001B[39m (b \u001B[38;5;241m+\u001B[39m db) \u001B[38;5;241m*\u001B[39m x\u001B[38;5;241m*\u001B[39m\u001B[38;5;241m*\u001B[39m(\u001B[38;5;241m-\u001B[39m\u001B[38;5;241m1\u001B[39m\u001B[38;5;241m/\u001B[39m\u001B[38;5;241m4\u001B[39m)\n",
      "\u001B[1;31mKeyboardInterrupt\u001B[0m: "
     ]
    }
   ],
   "source": [
    "%%time\n",
    "# Получение первых 10000 строк данных\n",
    "X = X[:10000]\n",
    "y = y[:10000]\n",
    "\n",
    "# Convert X Series to numpy array\n",
    "X_arr = np.array(X)\n",
    "\n",
    "# Reshape X_arr\n",
    "X_arr = X_arr.reshape(-1, 1)\n",
    "\n",
    "scaler = StandardScaler()\n",
    "\n",
    "# Convert X Series to numpy array for normalization\n",
    "X_norm = np.array(X)\n",
    "X_norm = scaler.fit_transform(X_norm.reshape(-1, 1))\n",
    "\n",
    "# Нормализация данных\n",
    "X_norm = scaler.transform(X_norm.reshape(-1, 1))\n",
    "\n",
    "# Настройка параметров для градиентного спуска\n",
    "learning_rate = 0.01\n",
    "max_iterations = 10000\n",
    "epsilon = 0.001\n",
    "\n",
    "# Преобразование max_iterations в целое число\n",
    "import math\n",
    "max_iterations = math.ceil(max_iterations)\n",
    "\n",
    "# Вычисление оптимальных значений весов a, b и c\n",
    "a, b, c = gradient_descent(X, y, learning_rate, epsilon, num_iterations=max_iterations)\n",
    "\n",
    "# Вывод оптимальных значений весов a, b и c\n",
    "print('{:.6f} {:.6f} {:.6f}'.format(a, b, c))"
   ],
   "metadata": {
    "collapsed": false
   }
  },
  {
   "cell_type": "code",
   "execution_count": null,
   "outputs": [],
   "source": [],
   "metadata": {
    "collapsed": false
   }
  }
 ],
 "metadata": {
  "kernelspec": {
   "display_name": "Python 3",
   "language": "python",
   "name": "python3"
  },
  "language_info": {
   "codemirror_mode": {
    "name": "ipython",
    "version": 2
   },
   "file_extension": ".py",
   "mimetype": "text/x-python",
   "name": "python",
   "nbconvert_exporter": "python",
   "pygments_lexer": "ipython2",
   "version": "2.7.6"
  }
 },
 "nbformat": 4,
 "nbformat_minor": 0
}
