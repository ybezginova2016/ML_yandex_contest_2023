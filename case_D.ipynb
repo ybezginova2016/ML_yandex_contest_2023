{
 "cells": [
  {
   "cell_type": "code",
   "execution_count": 1,
   "outputs": [
    {
     "name": "stdout",
     "output_type": "stream",
     "text": [
      "Note: you may need to restart the kernel to use updated packages.\n"
     ]
    }
   ],
   "source": [
    "pip install -qq mmh3"
   ],
   "metadata": {
    "collapsed": false
   }
  },
  {
   "cell_type": "code",
   "execution_count": null,
   "metadata": {
    "collapsed": true
   },
   "outputs": [],
   "source": [
    "import mmh3\n",
    "import math\n",
    "\n",
    "n = int(input())\n",
    "b = 16 # выбираем число битов\n",
    "m = int(math.pow(2, b)) # число бакетов\n",
    "max_zeros = [0] * m\n",
    "\n",
    "# обработка запросов\n",
    "for i in range(n):\n",
    "    query = input().strip()\n",
    "    hash_value = mmh3.hash(query) # хешируем запрос\n",
    "    binary_value = bin(hash_value)[2:] # преобразуем хеш-значение в двоичную запись\n",
    "    max_zero_index = len(binary_value) - binary_value.rfind('1') - 1 # находим индекс наибольшего нуля\n",
    "    max_zeros[hash_value % m] = max(max_zeros[hash_value % m], max_zero_index)\n",
    "\n",
    "# вычисление оценки количества уникальных элементов\n",
    "alpha = 0.7213 / (1 + 1.079 / m)\n",
    "estimate = 2 ** (alpha * m ** 2 / sum([2 ** (-max_zero) for max_zero in max_zeros]))\n",
    "\n",
    "print(estimate)"
   ]
  }
 ],
 "metadata": {
  "kernelspec": {
   "display_name": "Python 3",
   "language": "python",
   "name": "python3"
  },
  "language_info": {
   "codemirror_mode": {
    "name": "ipython",
    "version": 2
   },
   "file_extension": ".py",
   "mimetype": "text/x-python",
   "name": "python",
   "nbconvert_exporter": "python",
   "pygments_lexer": "ipython2",
   "version": "2.7.6"
  }
 },
 "nbformat": 4,
 "nbformat_minor": 0
}
